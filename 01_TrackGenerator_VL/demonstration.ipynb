{
 "cells": [
  {
   "cell_type": "code",
   "execution_count": 1,
   "metadata": {},
   "outputs": [
    {
     "data": {
      "image/png": "[encoded data removed]",
      "text/plain": [
       "<Figure size 432x288 with 1 Axes>"
      ]
     },
     "metadata": {
      "needs_background": "light"
     },
     "output_type": "display_data"
    }
   ],
   "source": [
    "from VL_trackGenerator import *\n",
    "%reset - f\n",
    "\n",
    "\n",
    "p0 = [0, 0]\n",
    "p1 = [0, 30]\n",
    "pn_1 = [30, 0]\n",
    "pn = [30, 30]\n",
    "control_points = [p0, p1, pn_1, pn]\n",
    "\n",
    "p2 = [0, 0]\n",
    "p3 = [0, 1]\n",
    "pn_3 = [1, 0]\n",
    "pn = [30, 30]\n",
    "\n",
    "p5 = [60, 20]\n",
    "p6 = [-60, 30]\n",
    "\n",
    "param1 = {\n",
    "    \"turn_against_normal\": False,\n",
    "    \"radius\": 30,\n",
    "    \"circle_percent\": 0.47\n",
    "}\n",
    "param11 = {\n",
    "    \"turn_against_normal\": False,\n",
    "    \"radius\": 30,\n",
    "    \"circle_percent\": 0.12\n",
    "}\n",
    "\n",
    "\n",
    "param2 = {\n",
    "    \"length\": 20,\n",
    "}\n",
    "\n",
    "param3 = {\n",
    "    \"scale_in\": 20,\n",
    "    \"scale_out\": 20,\n",
    "\n",
    "}\n",
    "param33 = {\n",
    "    \"scale_in\": 10,\n",
    "    \"scale_out\": 10,\n",
    "\n",
    "}\n",
    "\n",
    "######################## DATA ############################\n",
    "\n",
    "# data1,tangent_out1,normal_out1=TrackGenerator.add_constant_turn(p0, pn_3, p3,param1)\n",
    "# data2, tangent_out2, normal_out2=TrackGenerator.add_straight(data1[-1], (tangent_out1), (normal_out1), param2)\n",
    "# data3, tangent_out3, normal_out3=TrackGenerator.add_bezier(data2[-1], p6,(tangent_out2),(tangent_out2), param3)\n",
    "\n",
    "\n",
    "data1, tangent_out1, normal_out1 = TrackGenerator.add_constant_turn(\n",
    "    p0, pn_3, p3, param1)\n",
    "data2, tangent_out2, normal_out2 = TrackGenerator.add_straight(\n",
    "    data1[-1], (tangent_out1), (normal_out1), param2)\n",
    "#data3, tangent_out3, normal_out3=TrackGenerator.add_bezier(data2[-1], p5,(tangent_out2),(tangent_out2), param33)\n",
    "\n",
    "\n",
    "data1.extend(data2)\n",
    "# data1.extend(data3)\n",
    "\n",
    "\n",
    "TrackGenerator.visualize(data1)\n"
   ]
  }
 ],
 "metadata": {
  "interpreter": {
   "hash": "5cf115c90cf4075b1c9065cc926065ba48e099b572494160fdd6eb41ebb678b2"
  },
  "kernelspec": {
   "display_name": "Python 3.9.6 64-bit",
   "name": "python3"
  },
  "language_info": {
   "codemirror_mode": {
    "name": "ipython",
    "version": 3
   },
   "file_extension": ".py",
   "mimetype": "text/x-python",
   "name": "python",
   "nbconvert_exporter": "python",
   "pygments_lexer": "ipython3",
   "version": "3.10.0"
  },
  "orig_nbformat": 4
 },
 "nbformat": 4,
 "nbformat_minor": 2
}
